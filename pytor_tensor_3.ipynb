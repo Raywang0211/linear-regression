{
 "cells": [
  {
   "cell_type": "code",
   "execution_count": 1,
   "metadata": {},
   "outputs": [],
   "source": [
    "import torch\n",
    "import numpy as np"
   ]
  },
  {
   "cell_type": "markdown",
   "metadata": {},
   "source": [
    "view   \n",
    "reshape    \n",
    "兩個功能相同"
   ]
  },
  {
   "cell_type": "code",
   "execution_count": 8,
   "metadata": {},
   "outputs": [
    {
     "name": "stdout",
     "output_type": "stream",
     "text": [
      "a.shape =  torch.Size([5, 1, 28, 28])\n",
      "b.shape torch.Size([5, 784])\n",
      "c.shape torch.Size([5, 784])\n",
      "c.shape torch.Size([140, 28])\n"
     ]
    }
   ],
   "source": [
    "a = torch.rand(5,1,28,28)\n",
    "print(\"a.shape = \",a.shape)\n",
    "b = a.view(5,1*28*28)\n",
    "print(\"b.shape\",b.shape)\n",
    "c = a.reshape(5,1*28*28)\n",
    "print(\"c.shape\",c.shape)\n",
    "c = a.reshape(5*1*28,28)\n",
    "print(\"c.shape\",c.shape)"
   ]
  },
  {
   "cell_type": "markdown",
   "metadata": {},
   "source": [
    "Squeeze 維度刪除    \n",
    "unsqueeze 新增維度\n"
   ]
  },
  {
   "cell_type": "code",
   "execution_count": 10,
   "metadata": {},
   "outputs": [
    {
     "name": "stdout",
     "output_type": "stream",
     "text": [
      "a.shape =  torch.Size([5, 1, 28, 28])\n",
      "b.shape =  torch.Size([1, 5, 1, 28, 28])\n",
      "b.shape =  torch.Size([5, 1, 28, 28, 1])\n"
     ]
    }
   ],
   "source": [
    "a = torch.rand(5,1,28,28)\n",
    "print(\"a.shape = \",a.shape)\n",
    "b = a.unsqueeze(0)\n",
    "print(\"b.shape = \",b.shape)\n",
    "b = a.unsqueeze(-1)\n",
    "print(\"b.shape = \",b.shape)"
   ]
  },
  {
   "cell_type": "code",
   "execution_count": 21,
   "metadata": {},
   "outputs": [
    {
     "name": "stdout",
     "output_type": "stream",
     "text": [
      "a.shape =  torch.Size([1, 32, 1, 1])\n",
      "b.shape =  torch.Size([32])\n",
      "b.shape =  torch.Size([32, 1, 1])\n",
      "b.shape =  torch.Size([1, 32, 1])\n"
     ]
    }
   ],
   "source": [
    "a = torch.rand(32)\n",
    "a = a.unsqueeze(1).unsqueeze(1).unsqueeze(0)\n",
    "print(\"a.shape = \",a.shape)\n",
    "b = a.squeeze()\n",
    "print(\"b.shape = \",b.shape)\n",
    "b = a.squeeze(0)\n",
    "print(\"b.shape = \",b.shape)\n",
    "b = a.squeeze(2)\n",
    "print(\"b.shape = \",b.shape)"
   ]
  },
  {
   "cell_type": "markdown",
   "metadata": {},
   "source": [
    "Expand(擴展成的維度數量) 維度的擴展針對本來為1的維度可以擴展成(1,32,1,1) = (n,32,n,n) ，只有該維度的長度為1時才可以進行擴展，其擴展的方式為在有需要時複製相同的數據  \n",
    "repeat(擴展次數) 維度的擴展，直接將數據做指定次數的複製貼上 (1,32,1,1) = (n,32*n,n,n)"
   ]
  },
  {
   "cell_type": "code",
   "execution_count": 22,
   "metadata": {},
   "outputs": [
    {
     "name": "stdout",
     "output_type": "stream",
     "text": [
      "a.shape =  torch.Size([1, 32, 1, 1])\n",
      "b.shape =  torch.Size([4, 32, 28, 28])\n"
     ]
    }
   ],
   "source": [
    "a = torch.rand(32)\n",
    "a = a.unsqueeze(1).unsqueeze(1).unsqueeze(0)\n",
    "print(\"a.shape = \",a.shape)\n",
    "b = a.expand(4,32,28,28)\n",
    "print(\"b.shape = \",b.shape)"
   ]
  },
  {
   "cell_type": "code",
   "execution_count": 25,
   "metadata": {},
   "outputs": [
    {
     "name": "stdout",
     "output_type": "stream",
     "text": [
      "a.shape =  torch.Size([1, 32, 1, 1])\n",
      "b.shape =  torch.Size([4, 32, 28, 28])\n",
      "b.shape =  torch.Size([10, 32, 3, 3])\n"
     ]
    }
   ],
   "source": [
    "a = torch.rand(32)\n",
    "a = a.unsqueeze(1).unsqueeze(1).unsqueeze(0)\n",
    "print(\"a.shape = \",a.shape)\n",
    "b = a.repeat(4,1,28,28)\n",
    "print(\"b.shape = \",b.shape)\n",
    "b = a.repeat(10,1,3,3)\n",
    "print(\"b.shape = \",b.shape)"
   ]
  },
  {
   "cell_type": "markdown",
   "metadata": {},
   "source": [
    "Transpose 維度的對調     \n",
    "經過維度的對調之後如果有進行維度的融合(reshape)轉回來之後需要再進行維度的轉換     \n",
    "（5,3,28,28）---(5,28,28,3)---(5,2352)---(5,3,28,28) 頭尾不相等     \n",
    "（5,3,28,28）---(5,28,28,3)---(5,2352)---(5,28,28,3)---(5,3,28,28)頭尾相等"
   ]
  },
  {
   "cell_type": "code",
   "execution_count": 51,
   "metadata": {},
   "outputs": [
    {
     "name": "stdout",
     "output_type": "stream",
     "text": [
      "a.shape =  torch.Size([5, 3, 28, 28])\n",
      "b.shape =  torch.Size([5, 3, 28, 28])\n",
      "c.shape =  torch.Size([5, 3, 28, 28])\n"
     ]
    }
   ],
   "source": [
    "a = torch.rand(5,3,28,28)\n",
    "print(\"a.shape = \",a.shape)\n",
    "b = a.transpose(1,3).reshape(5,3*28*28).reshape(5,3,28,28)\n",
    "print(\"b.shape = \",b.shape)\n",
    "c = a.transpose(1,3).reshape(5,3*28*28).reshape(5,28,28,3).transpose(1,3)\n",
    "print(\"c.shape = \",c.shape)\n",
    "\n"
   ]
  },
  {
   "cell_type": "code",
   "execution_count": 53,
   "metadata": {},
   "outputs": [
    {
     "name": "stdout",
     "output_type": "stream",
     "text": [
      "tensor(False)\n",
      "tensor(True)\n"
     ]
    }
   ],
   "source": [
    "print(torch.all(torch.eq(a,b)))\n",
    "print(torch.all(torch.eq(a,c)))\n"
   ]
  },
  {
   "cell_type": "markdown",
   "metadata": {},
   "source": [
    "permute 多個維度同時交換\n"
   ]
  },
  {
   "cell_type": "code",
   "execution_count": 57,
   "metadata": {},
   "outputs": [
    {
     "name": "stdout",
     "output_type": "stream",
     "text": [
      "a.shape =  torch.Size([5, 3, 28, 32])\n",
      "b.shape =  torch.Size([5, 32, 28, 3])\n"
     ]
    }
   ],
   "source": [
    "a = torch.rand(5,3,28,32)\n",
    "print(\"a.shape = \",a.shape)\n",
    "b = a.permute(0,3,2,1)\n",
    "print(\"b.shape = \",b.shape)"
   ]
  },
  {
   "cell_type": "code",
   "execution_count": null,
   "metadata": {},
   "outputs": [],
   "source": []
  }
 ],
 "metadata": {
  "kernelspec": {
   "display_name": "Python 3.7.11 ('pytor_env')",
   "language": "python",
   "name": "python3"
  },
  "language_info": {
   "codemirror_mode": {
    "name": "ipython",
    "version": 3
   },
   "file_extension": ".py",
   "mimetype": "text/x-python",
   "name": "python",
   "nbconvert_exporter": "python",
   "pygments_lexer": "ipython3",
   "version": "3.7.13"
  },
  "orig_nbformat": 4,
  "vscode": {
   "interpreter": {
    "hash": "82c5a8496d5ccafcd4e6c76c475f388340a05db3c7bf7b400eb572b6a6a1285b"
   }
  }
 },
 "nbformat": 4,
 "nbformat_minor": 2
}
