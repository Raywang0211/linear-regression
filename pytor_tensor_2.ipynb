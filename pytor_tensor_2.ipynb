{
 "cells": [
  {
   "cell_type": "code",
   "execution_count": 1,
   "metadata": {},
   "outputs": [],
   "source": [
    "import torch\n",
    "import numpy as np"
   ]
  },
  {
   "cell_type": "markdown",
   "metadata": {},
   "source": [
    "針對tensor進行索引以及操作     \n",
    "取用的方式跟numpy差不多"
   ]
  },
  {
   "cell_type": "code",
   "execution_count": 5,
   "metadata": {},
   "outputs": [
    {
     "name": "stdout",
     "output_type": "stream",
     "text": [
      "a[0] =  torch.Size([3, 28, 28])\n",
      "a[:1] =  torch.Size([1, 3, 28, 28])\n"
     ]
    }
   ],
   "source": [
    "a = torch.rand(4,3,28,28)\n",
    "print(\"a[0] = \",a[0].shape)\n",
    "print(\"a[:1] = \",a[:1].shape)"
   ]
  },
  {
   "cell_type": "markdown",
   "metadata": {},
   "source": [
    "格行採樣"
   ]
  },
  {
   "cell_type": "code",
   "execution_count": 6,
   "metadata": {},
   "outputs": [
    {
     "name": "stdout",
     "output_type": "stream",
     "text": [
      "b =  torch.Size([4, 3, 14, 14])\n"
     ]
    }
   ],
   "source": [
    "a = torch.rand(4,3,28,28)\n",
    "b = a[:,:,0:28:2,0:28:2]\n",
    "print(\"b = \",b.shape)"
   ]
  },
  {
   "cell_type": "markdown",
   "metadata": {},
   "source": [
    "採樣特定index"
   ]
  },
  {
   "cell_type": "code",
   "execution_count": 13,
   "metadata": {},
   "outputs": [
    {
     "name": "stdout",
     "output_type": "stream",
     "text": [
      "b =  torch.Size([4, 2, 28, 28])\n"
     ]
    }
   ],
   "source": [
    "a = torch.rand(4,3,28,28)\n",
    "b = a.index_select(1,torch.tensor([1,2]))\n",
    "print(\"b = \",b.shape)"
   ]
  },
  {
   "cell_type": "markdown",
   "metadata": {},
   "source": [
    "... 指取所有維度"
   ]
  },
  {
   "cell_type": "code",
   "execution_count": 19,
   "metadata": {},
   "outputs": [
    {
     "name": "stdout",
     "output_type": "stream",
     "text": [
      "b =  torch.Size([4, 3, 28, 28])\n",
      "b =  torch.Size([2, 3, 28, 28])\n",
      "b =  torch.Size([4, 1, 28, 28])\n",
      "b =  torch.Size([4, 3, 28, 17])\n"
     ]
    }
   ],
   "source": [
    "a = torch.rand(4,3,28,28)\n",
    "b = a[...]\n",
    "print(\"b = \",b.shape)\n",
    "b = a[:2,...]\n",
    "print(\"b = \",b.shape)\n",
    "b = a[:,:1,...]\n",
    "print(\"b = \",b.shape)\n",
    "b = a[...,3:20,...]\n",
    "print(\"b = \",b.shape)\n"
   ]
  },
  {
   "cell_type": "markdown",
   "metadata": {},
   "source": [
    "masked_select()     \n",
    ".ge() 大於某個數值則為1反之則為0"
   ]
  },
  {
   "cell_type": "code",
   "execution_count": 24,
   "metadata": {},
   "outputs": [
    {
     "name": "stdout",
     "output_type": "stream",
     "text": [
      "a =  tensor([[0.1520, 0.1613, 0.6729, 0.4927, 0.8750],\n",
      "        [0.4317, 0.0139, 0.8804, 0.7410, 0.5509],\n",
      "        [0.3453, 0.1910, 0.4849, 0.5803, 0.5431]])\n",
      "filter =  tensor([0.6729, 0.8750, 0.8804, 0.7410, 0.5509, 0.5803, 0.5431])\n"
     ]
    }
   ],
   "source": [
    "a = torch.rand(3,5)\n",
    "print(\"a = \",a)\n",
    "mask = a.ge(0.5)\n",
    "filter = torch.masked_select(a,mask)\n",
    "print(\"filter = \",filter)\n"
   ]
  },
  {
   "cell_type": "code",
   "execution_count": null,
   "metadata": {},
   "outputs": [],
   "source": []
  }
 ],
 "metadata": {
  "kernelspec": {
   "display_name": "Python 3.7.11 ('pytor_env')",
   "language": "python",
   "name": "python3"
  },
  "language_info": {
   "codemirror_mode": {
    "name": "ipython",
    "version": 3
   },
   "file_extension": ".py",
   "mimetype": "text/x-python",
   "name": "python",
   "nbconvert_exporter": "python",
   "pygments_lexer": "ipython3",
   "version": "3.7.13"
  },
  "orig_nbformat": 4,
  "vscode": {
   "interpreter": {
    "hash": "82c5a8496d5ccafcd4e6c76c475f388340a05db3c7bf7b400eb572b6a6a1285b"
   }
  }
 },
 "nbformat": 4,
 "nbformat_minor": 2
}
