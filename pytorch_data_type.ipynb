{
 "cells": [
  {
   "cell_type": "code",
   "execution_count": 1,
   "metadata": {},
   "outputs": [],
   "source": [
    "import torch"
   ]
  },
  {
   "cell_type": "code",
   "execution_count": 5,
   "metadata": {},
   "outputs": [
    {
     "name": "stdout",
     "output_type": "stream",
     "text": [
      "a.type() =  torch.FloatTensor\n",
      "type(a) =  <class 'torch.Tensor'>\n",
      "Isinstance =  True\n"
     ]
    }
   ],
   "source": [
    "a = torch.randn(2,3)\n",
    "print(\"a.type() = \",a.type())\n",
    "print(\"type(a) = \",type(a))\n",
    "print(\"Isinstance = \",isinstance(a,torch.FloatTensor))"
   ]
  },
  {
   "cell_type": "code",
   "execution_count": 7,
   "metadata": {},
   "outputs": [
    {
     "name": "stdout",
     "output_type": "stream",
     "text": [
      "Isinstance =  False\n",
      "Isinstance =  True\n"
     ]
    }
   ],
   "source": [
    "a_GPU = a.cuda()\n",
    "print(\"Isinstance = \",isinstance(a,torch.cuda.FloatTensor))\n",
    "print(\"Isinstance = \",isinstance(a_GPU,torch.cuda.FloatTensor))"
   ]
  },
  {
   "cell_type": "markdown",
   "metadata": {},
   "source": [
    "透過cuda()可以將本來的cpuTensor轉成GPUTensor"
   ]
  },
  {
   "cell_type": "code",
   "execution_count": 41,
   "metadata": {},
   "outputs": [
    {
     "name": "stdout",
     "output_type": "stream",
     "text": [
      "b.shape =  torch.Size([])\n",
      "c.shape =  torch.Size([1])\n"
     ]
    }
   ],
   "source": [
    "b = torch.tensor(1.)\n",
    "c = torch.tensor([1.1])\n",
    "d = torch.FloatTensor(4)\n",
    "print(\"b.shape = \",b.shape)\n",
    "print(\"c.shape = \",c.shape)"
   ]
  },
  {
   "cell_type": "code",
   "execution_count": 32,
   "metadata": {},
   "outputs": [],
   "source": [
    "import numpy as np"
   ]
  },
  {
   "cell_type": "markdown",
   "metadata": {},
   "source": [
    "可以將numpy 直接轉成 tensor"
   ]
  },
  {
   "cell_type": "code",
   "execution_count": 40,
   "metadata": {},
   "outputs": [
    {
     "name": "stdout",
     "output_type": "stream",
     "text": [
      "type =  <class 'numpy.ndarray'>\n",
      "type =  <class 'torch.Tensor'>\n",
      "Dimention =  2\n",
      "Shape =  torch.Size([2, 2])\n"
     ]
    }
   ],
   "source": [
    "np_array = np.ones((2,2))\n",
    "data = torch.from_numpy(np_array)\n",
    "print(\"type = \",type(np_array))\n",
    "print(\"type = \",type(data))\n",
    "print(\"Dimention = \",len(data.shape))\n",
    "print(\"Shape = \",data.shape)\n"
   ]
  },
  {
   "cell_type": "code",
   "execution_count": 48,
   "metadata": {},
   "outputs": [
    {
     "name": "stdout",
     "output_type": "stream",
     "text": [
      "num =  23520\n",
      "dim =  4\n"
     ]
    }
   ],
   "source": [
    "data_4 = torch.rand(10,3,28,28)\n",
    "num = torch.numel(data_4)\n",
    "list(data_4.shape)\n",
    "print(\"num = \",num)\n",
    "print(\"dim = \",data_4.dim())"
   ]
  },
  {
   "cell_type": "markdown",
   "metadata": {},
   "source": [
    "torch.numel() 可以計算資料集的所有元素數量（10*3*28*28）\n",
    "data_4.dim()可以直接顯示資料集的維度大小"
   ]
  },
  {
   "cell_type": "code",
   "execution_count": null,
   "metadata": {},
   "outputs": [],
   "source": []
  }
 ],
 "metadata": {
  "kernelspec": {
   "display_name": "Python 3.7.11 ('pytor_env')",
   "language": "python",
   "name": "python3"
  },
  "language_info": {
   "codemirror_mode": {
    "name": "ipython",
    "version": 3
   },
   "file_extension": ".py",
   "mimetype": "text/x-python",
   "name": "python",
   "nbconvert_exporter": "python",
   "pygments_lexer": "ipython3",
   "version": "3.7.13"
  },
  "orig_nbformat": 4,
  "vscode": {
   "interpreter": {
    "hash": "82c5a8496d5ccafcd4e6c76c475f388340a05db3c7bf7b400eb572b6a6a1285b"
   }
  }
 },
 "nbformat": 4,
 "nbformat_minor": 2
}
