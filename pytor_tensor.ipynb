{
 "cells": [
  {
   "cell_type": "code",
   "execution_count": 38,
   "metadata": {},
   "outputs": [],
   "source": [
    "import torch\n",
    "import numpy as np"
   ]
  },
  {
   "cell_type": "markdown",
   "metadata": {},
   "source": [
    "import data from numpy"
   ]
  },
  {
   "cell_type": "code",
   "execution_count": 39,
   "metadata": {},
   "outputs": [
    {
     "name": "stdout",
     "output_type": "stream",
     "text": [
      "1 tensor =  tensor([2, 3])\n",
      "2 tensor =  tensor([[1., 1., 1.],\n",
      "        [1., 1., 1.]])\n",
      " 1 type  torch.LongTensor\n",
      " 2 type  torch.DoubleTensor\n"
     ]
    }
   ],
   "source": [
    "data_np_1 = np.array([2,3])\n",
    "data_np_2 = np.ones((2,3))\n",
    "t1 = torch.from_numpy(data_np_1)\n",
    "t2 = torch.from_numpy(data_np_2)\n",
    "print(\"1 tensor = \",t1)\n",
    "print(\"2 tensor = \",t2)\n",
    "print(\" 1 type \",t1.type())\n",
    "print(\" 2 type \",t2.type())"
   ]
  },
  {
   "cell_type": "markdown",
   "metadata": {},
   "source": [
    "import data from list"
   ]
  },
  {
   "cell_type": "code",
   "execution_count": 40,
   "metadata": {},
   "outputs": [
    {
     "name": "stdout",
     "output_type": "stream",
     "text": [
      "T1 type =  torch.LongTensor\n",
      "T1 type =  torch.IntTensor\n"
     ]
    },
    {
     "data": {
      "text/plain": [
       "tensor([1, 2, 3, 4, 5], dtype=torch.int32)"
      ]
     },
     "execution_count": 40,
     "metadata": {},
     "output_type": "execute_result"
    }
   ],
   "source": [
    "t1 = torch.tensor([1,2,3,4,5])\n",
    "t2 = torch.IntTensor([1,2,3,4,5])\n",
    "print(\"T1 type = \",t1.type())\n",
    "print(\"T1 type = \",t2.type())\n",
    "t2"
   ]
  },
  {
   "cell_type": "markdown",
   "metadata": {},
   "source": [
    "Tensor 跟 tensor 的差別在於前者是直接接收一個維度的大小之後隨機自動產生對應大小的tensor   \n",
    "tensor 則是可以直接輸入一個list將他轉換成tensor的資料型態         \n",
    "FloatTensor 可以輸入一個維度自動轉換成隨機的floartensor,也可以直接輸入一個list轉換成tensor的型態     \n",
    "IntTensor 的用法跟FloatTensor相同\n"
   ]
  },
  {
   "cell_type": "code",
   "execution_count": 41,
   "metadata": {},
   "outputs": [
    {
     "name": "stdout",
     "output_type": "stream",
     "text": [
      "T1 =  tensor([3], dtype=torch.int32)  type() torch.IntTensor\n",
      "T2 =  tensor([3.], dtype=torch.float32)  type() torch.FloatTensor\n",
      "T3 =  tensor([4.6721e-310, 4.6721e-310, 3.1620e-322])  type() torch.DoubleTensor\n"
     ]
    }
   ],
   "source": [
    "T1 = torch.IntTensor([3])\n",
    "T2 = torch.FloatTensor([3])\n",
    "T3 = torch.Tensor(3)\n",
    "print(\"T1 = \",T1,\" type()\",T1.type())\n",
    "print(\"T2 = \",T2,\" type()\",T2.type())\n",
    "print(\"T3 = \",T3,\" type()\",T3.type())"
   ]
  },
  {
   "cell_type": "code",
   "execution_count": 42,
   "metadata": {},
   "outputs": [
    {
     "name": "stdout",
     "output_type": "stream",
     "text": [
      "T1 =  tensor([1, 2, 3, 4, 5], dtype=torch.int32)  type() torch.IntTensor\n",
      "T2 =  tensor([1.5000, 2.5000, 3.5000, 4.5000, 5.5000], dtype=torch.float32)  type() torch.FloatTensor\n",
      "T3 =  tensor([6.9450e-310, 6.9450e-310, 1.5810e-322])  type() torch.DoubleTensor\n"
     ]
    }
   ],
   "source": [
    "T1 = torch.IntTensor([1,2,3,4,5])\n",
    "T2 = torch.FloatTensor([1.5,2.5,3.5,4.5,5.5])\n",
    "T3 = torch.Tensor(3)\n",
    "print(\"T1 = \",T1,\" type()\",T1.type())\n",
    "print(\"T2 = \",T2,\" type()\",T2.type())\n",
    "print(\"T3 = \",T3,\" type()\",T3.type())"
   ]
  },
  {
   "cell_type": "code",
   "execution_count": 43,
   "metadata": {},
   "outputs": [
    {
     "name": "stdout",
     "output_type": "stream",
     "text": [
      "T1 =  tensor([[-1535642384,       22017, -1535782192],\n",
      "        [      22017,          80,           0]], dtype=torch.int32)  type() torch.IntTensor\n",
      "T2 =  tensor([[-3.8914e-17,  3.0852e-41, -5.3767e-17],\n",
      "        [ 3.0852e-41,  1.1210e-43,  0.0000e+00]], dtype=torch.float32)  type() torch.FloatTensor\n",
      "T3 =  tensor([[4.6721e-310, 6.9450e-310, 3.1620e-322],\n",
      "        [3.9525e-322,  0.0000e+00, 4.6721e-310]])  type() torch.DoubleTensor\n"
     ]
    }
   ],
   "source": [
    "T1 = torch.IntTensor(2,3)\n",
    "T2 = torch.FloatTensor(2,3)\n",
    "T3 = torch.Tensor(2,3)\n",
    "print(\"T1 = \",T1,\" type()\",T1.type())\n",
    "print(\"T2 = \",T2,\" type()\",T2.type())\n",
    "print(\"T3 = \",T3,\" type()\",T3.type())"
   ]
  },
  {
   "cell_type": "markdown",
   "metadata": {},
   "source": [
    "生成隨機數據      \n",
    "empty 起始一個空的陣列    \n",
    "torch.Tensor() 起始一個隨機的陣列    \n",
    "torch.randint() 起始一個隨機的int陣列     \n",
    "torch.randn() 起始一個高斯分佈的真列    \n",
    "torch.normal(mean,std) 起始一個可以自定義mean std的高斯陣列    \n",
    "torch.full() 全部都是某個值的tensor\n",
    "\n",
    "\n"
   ]
  },
  {
   "cell_type": "code",
   "execution_count": 45,
   "metadata": {},
   "outputs": [
    {
     "name": "stdout",
     "output_type": "stream",
     "text": [
      "t1 type =  torch.DoubleTensor\n"
     ]
    }
   ],
   "source": [
    "torch.empty(10)\n",
    "t1 = torch.Tensor(2,3)\n",
    "print(\"t1 type = \",t1.type())\n"
   ]
  },
  {
   "cell_type": "code",
   "execution_count": 51,
   "metadata": {},
   "outputs": [
    {
     "data": {
      "text/plain": [
       "tensor([ 0.6714, -0.5517, -0.7058, -0.2162,  0.1177,  1.0851,  0.3473, -0.4340,\n",
       "        -0.0924,  0.1452])"
      ]
     },
     "execution_count": 51,
     "metadata": {},
     "output_type": "execute_result"
    }
   ],
   "source": [
    "torch.randint(1,10,(2,2)) #[min,max,(shape) ]\n",
    "torch.randn(3,3) #gaussian\n",
    "torch.normal(mean=torch.full([10],0.),std=torch.arange(1,0,-0.1))"
   ]
  },
  {
   "cell_type": "code",
   "execution_count": 60,
   "metadata": {},
   "outputs": [],
   "source": [
    "t1 = torch.full([2,3],3.)"
   ]
  },
  {
   "cell_type": "markdown",
   "metadata": {},
   "source": [
    "建立指定大小的陣列     \n",
    "torch.ones 全one的     \n",
    "torch.zeros 全zero的     \n",
    "torch.eye 對角矩陣\n",
    "torch.ones_like 可以做出一個跟輸入大小相同的one矩陣     \n",
    "torch.zeros_like 可以做出一個跟輸入大小相同的zero矩陣     "
   ]
  },
  {
   "cell_type": "code",
   "execution_count": 70,
   "metadata": {},
   "outputs": [
    {
     "data": {
      "text/plain": [
       "torch.Size([5, 5])"
      ]
     },
     "execution_count": 70,
     "metadata": {},
     "output_type": "execute_result"
    }
   ],
   "source": [
    "a = torch.zeros(5,5)\n",
    "b = torch.ones_like(a)\n",
    "b.shape\n"
   ]
  },
  {
   "cell_type": "markdown",
   "metadata": {},
   "source": [
    "隨機打散     \n",
    "torch.randperm() 隨機打散給定數量的index"
   ]
  },
  {
   "cell_type": "code",
   "execution_count": 82,
   "metadata": {},
   "outputs": [
    {
     "name": "stdout",
     "output_type": "stream",
     "text": [
      "index =  tensor([3, 6, 1, 4, 9, 2, 7, 0, 5, 8])\n",
      "tensor([[ 2133933456,       32728,  2133933456],\n",
      "        [      32728,          64,           0],\n",
      "        [          0,       32727,          48],\n",
      "        [          0,         209,           0],\n",
      "        [-1535641936,       22017, -1541156320],\n",
      "        [      22017,           1,           0],\n",
      "        [          0,           0,           0],\n",
      "        [          0,           0,           0],\n",
      "        [-1540250672,       22017, -1554052576],\n",
      "        [      22017,  1990968240,       32727]], dtype=torch.int32)\n",
      "tensor([[          0,         209,           0],\n",
      "        [          0,           0,           0],\n",
      "        [      32728,          64,           0],\n",
      "        [-1535641936,       22017, -1541156320],\n",
      "        [      22017,  1990968240,       32727],\n",
      "        [          0,       32727,          48],\n",
      "        [          0,           0,           0],\n",
      "        [ 2133933456,       32728,  2133933456],\n",
      "        [      22017,           1,           0],\n",
      "        [-1540250672,       22017, -1554052576]], dtype=torch.int32)\n"
     ]
    }
   ],
   "source": [
    "index = torch.randperm(10)\n",
    "print(\"index = \",index)\n",
    "a = torch.IntTensor(10,3)\n",
    "print(a)\n",
    "print(a[index])\n",
    "# a[index]"
   ]
  },
  {
   "cell_type": "code",
   "execution_count": null,
   "metadata": {},
   "outputs": [],
   "source": []
  },
  {
   "cell_type": "code",
   "execution_count": null,
   "metadata": {},
   "outputs": [],
   "source": []
  }
 ],
 "metadata": {
  "kernelspec": {
   "display_name": "Python 3.7.11 ('pytor_env')",
   "language": "python",
   "name": "python3"
  },
  "language_info": {
   "codemirror_mode": {
    "name": "ipython",
    "version": 3
   },
   "file_extension": ".py",
   "mimetype": "text/x-python",
   "name": "python",
   "nbconvert_exporter": "python",
   "pygments_lexer": "ipython3",
   "version": "3.7.13"
  },
  "orig_nbformat": 4,
  "vscode": {
   "interpreter": {
    "hash": "82c5a8496d5ccafcd4e6c76c475f388340a05db3c7bf7b400eb572b6a6a1285b"
   }
  }
 },
 "nbformat": 4,
 "nbformat_minor": 2
}
